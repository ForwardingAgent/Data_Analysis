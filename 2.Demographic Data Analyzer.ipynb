{
 "cells": [
  {
   "cell_type": "code",
   "execution_count": 1,
   "id": "5fb7e940",
   "metadata": {},
   "outputs": [],
   "source": [
    "import pandas as pd"
   ]
  },
  {
   "cell_type": "code",
   "execution_count": 2,
   "id": "bbaca725",
   "metadata": {},
   "outputs": [],
   "source": [
    "df = pd.read_csv('/Users/nikolas/Desktop/Python/Tasks/Nm_Pd_Plt/adult.data.csv')"
   ]
  },
  {
   "cell_type": "code",
   "execution_count": 3,
   "id": "1a05f417",
   "metadata": {},
   "outputs": [
    {
     "data": {
      "text/html": [
       "<div>\n",
       "<style scoped>\n",
       "    .dataframe tbody tr th:only-of-type {\n",
       "        vertical-align: middle;\n",
       "    }\n",
       "\n",
       "    .dataframe tbody tr th {\n",
       "        vertical-align: top;\n",
       "    }\n",
       "\n",
       "    .dataframe thead th {\n",
       "        text-align: right;\n",
       "    }\n",
       "</style>\n",
       "<table border=\"1\" class=\"dataframe\">\n",
       "  <thead>\n",
       "    <tr style=\"text-align: right;\">\n",
       "      <th></th>\n",
       "      <th>age</th>\n",
       "      <th>workclass</th>\n",
       "      <th>fnlwgt</th>\n",
       "      <th>education</th>\n",
       "      <th>education-num</th>\n",
       "      <th>marital-status</th>\n",
       "      <th>occupation</th>\n",
       "      <th>relationship</th>\n",
       "      <th>race</th>\n",
       "      <th>sex</th>\n",
       "      <th>capital-gain</th>\n",
       "      <th>capital-loss</th>\n",
       "      <th>hours-per-week</th>\n",
       "      <th>native-country</th>\n",
       "      <th>salary</th>\n",
       "    </tr>\n",
       "  </thead>\n",
       "  <tbody>\n",
       "    <tr>\n",
       "      <th>0</th>\n",
       "      <td>39</td>\n",
       "      <td>State-gov</td>\n",
       "      <td>77516</td>\n",
       "      <td>Bachelors</td>\n",
       "      <td>13</td>\n",
       "      <td>Never-married</td>\n",
       "      <td>Adm-clerical</td>\n",
       "      <td>Not-in-family</td>\n",
       "      <td>White</td>\n",
       "      <td>Male</td>\n",
       "      <td>2174</td>\n",
       "      <td>0</td>\n",
       "      <td>40</td>\n",
       "      <td>United-States</td>\n",
       "      <td>&lt;=50K</td>\n",
       "    </tr>\n",
       "    <tr>\n",
       "      <th>1</th>\n",
       "      <td>50</td>\n",
       "      <td>Self-emp-not-inc</td>\n",
       "      <td>83311</td>\n",
       "      <td>Bachelors</td>\n",
       "      <td>13</td>\n",
       "      <td>Married-civ-spouse</td>\n",
       "      <td>Exec-managerial</td>\n",
       "      <td>Husband</td>\n",
       "      <td>White</td>\n",
       "      <td>Male</td>\n",
       "      <td>0</td>\n",
       "      <td>0</td>\n",
       "      <td>13</td>\n",
       "      <td>United-States</td>\n",
       "      <td>&lt;=50K</td>\n",
       "    </tr>\n",
       "    <tr>\n",
       "      <th>2</th>\n",
       "      <td>38</td>\n",
       "      <td>Private</td>\n",
       "      <td>215646</td>\n",
       "      <td>HS-grad</td>\n",
       "      <td>9</td>\n",
       "      <td>Divorced</td>\n",
       "      <td>Handlers-cleaners</td>\n",
       "      <td>Not-in-family</td>\n",
       "      <td>White</td>\n",
       "      <td>Male</td>\n",
       "      <td>0</td>\n",
       "      <td>0</td>\n",
       "      <td>40</td>\n",
       "      <td>United-States</td>\n",
       "      <td>&lt;=50K</td>\n",
       "    </tr>\n",
       "  </tbody>\n",
       "</table>\n",
       "</div>"
      ],
      "text/plain": [
       "   age         workclass  fnlwgt  education  education-num  \\\n",
       "0   39         State-gov   77516  Bachelors             13   \n",
       "1   50  Self-emp-not-inc   83311  Bachelors             13   \n",
       "2   38           Private  215646    HS-grad              9   \n",
       "\n",
       "       marital-status         occupation   relationship   race   sex  \\\n",
       "0       Never-married       Adm-clerical  Not-in-family  White  Male   \n",
       "1  Married-civ-spouse    Exec-managerial        Husband  White  Male   \n",
       "2            Divorced  Handlers-cleaners  Not-in-family  White  Male   \n",
       "\n",
       "   capital-gain  capital-loss  hours-per-week native-country salary  \n",
       "0          2174             0              40  United-States  <=50K  \n",
       "1             0             0              13  United-States  <=50K  \n",
       "2             0             0              40  United-States  <=50K  "
      ]
     },
     "execution_count": 3,
     "metadata": {},
     "output_type": "execute_result"
    }
   ],
   "source": [
    "df.head(3)"
   ]
  },
  {
   "cell_type": "code",
   "execution_count": 4,
   "id": "27472c81",
   "metadata": {},
   "outputs": [
    {
     "data": {
      "text/plain": [
       "32561"
      ]
     },
     "execution_count": 4,
     "metadata": {},
     "output_type": "execute_result"
    }
   ],
   "source": [
    "len(df)"
   ]
  },
  {
   "cell_type": "code",
   "execution_count": 5,
   "id": "6a7990b9",
   "metadata": {},
   "outputs": [],
   "source": [
    "# What is the average age of men?"
   ]
  },
  {
   "cell_type": "code",
   "execution_count": 6,
   "id": "7b6a7d8c",
   "metadata": {},
   "outputs": [
    {
     "data": {
      "text/plain": [
       "39.4"
      ]
     },
     "execution_count": 6,
     "metadata": {},
     "output_type": "execute_result"
    }
   ],
   "source": [
    "filter_Male = df['sex'] == 'Male'  # фильтр по Male\n",
    "df_Male = df.loc[filter_Male]  # df с фильтром\n",
    "df_Male['age'].count()  # общее кол-во rows по Male\n",
    "df_Male['age'].sum()  #  сумма всех age по Male\n",
    "average_age_men = df_Male['age'].sum() / df_Male['age'].count()\n",
    "float('%.1f' % average_age_men)"
   ]
  },
  {
   "cell_type": "code",
   "execution_count": null,
   "id": "1f029735",
   "metadata": {},
   "outputs": [],
   "source": []
  },
  {
   "cell_type": "code",
   "execution_count": 7,
   "id": "e1127e94",
   "metadata": {},
   "outputs": [],
   "source": [
    "#What is the percentage of people who have a Bachelor's degree?"
   ]
  },
  {
   "cell_type": "code",
   "execution_count": 8,
   "id": "4e6fc4e9",
   "metadata": {
    "scrolled": false
   },
   "outputs": [
    {
     "data": {
      "text/plain": [
       "16.4"
      ]
     },
     "execution_count": 8,
     "metadata": {},
     "output_type": "execute_result"
    }
   ],
   "source": [
    "all_edu_value = df['education'].value_counts()  # общее кол-во по степеням (возьмем кол-во (Bachelors) по индексу [2])\n",
    "df['education'].count()  # общее число всех степеней\n",
    "Bachelors_percent = (all_edu_value[2] * 100) / df['education'].count() # процент Bachelors в общем количестве\n",
    "float('%.1f' % Bachelors_percent)"
   ]
  },
  {
   "cell_type": "code",
   "execution_count": null,
   "id": "8d32db16",
   "metadata": {},
   "outputs": [],
   "source": []
  },
  {
   "cell_type": "code",
   "execution_count": 9,
   "id": "93ac8a2d",
   "metadata": {},
   "outputs": [
    {
     "data": {
      "text/plain": [
       "1"
      ]
     },
     "execution_count": 9,
     "metadata": {},
     "output_type": "execute_result"
    }
   ],
   "source": [
    "# What is the minimum number of hours a person works per week (hours-per-week feature)?\n",
    "df['hours-per-week'].min()"
   ]
  },
  {
   "cell_type": "code",
   "execution_count": null,
   "id": "271fc494",
   "metadata": {},
   "outputs": [],
   "source": []
  },
  {
   "cell_type": "code",
   "execution_count": 10,
   "id": "428d3b83",
   "metadata": {},
   "outputs": [],
   "source": [
    "# How many of each race are represented in this dataset? \n",
    "# This should be a Pandas series with race names as the index labels."
   ]
  },
  {
   "cell_type": "code",
   "execution_count": 11,
   "id": "819d87a8",
   "metadata": {},
   "outputs": [
    {
     "data": {
      "text/plain": [
       "[27816, 3124, 1039, 311, 271]"
      ]
     },
     "execution_count": 11,
     "metadata": {},
     "output_type": "execute_result"
    }
   ],
   "source": [
    "df['race'].value_counts()\n",
    "all_race = list(df['race'].value_counts())\n",
    "all_race"
   ]
  },
  {
   "cell_type": "code",
   "execution_count": null,
   "id": "821aa342",
   "metadata": {},
   "outputs": [],
   "source": []
  },
  {
   "cell_type": "code",
   "execution_count": 12,
   "id": "953ce2a5",
   "metadata": {},
   "outputs": [],
   "source": [
    "# What percentage of people with advanced education (`Bachelors`, `Masters`, or `Doctorate`) make more than 50K?\n",
    "# What percentage of people without advanced education make more than 50K?"
   ]
  },
  {
   "cell_type": "code",
   "execution_count": 13,
   "id": "8cd137c3",
   "metadata": {
    "scrolled": true
   },
   "outputs": [],
   "source": [
    "high_edu_Bachelors = df['education'] == 'Bachelors' # фильтр по 'Bachelors'\n",
    "high_edu_Masters = df['education'] == 'Masters' # фильтр по 'Masters'\n",
    "high_edu_Doctorate = df['education'] == 'Doctorate' # фильтр по 'Doctorate'\n",
    "df_Bachelors = df.loc[high_edu_Bachelors]  # df с фильтром по 'Bachelors'\n",
    "df_Masters = df.loc[high_edu_Masters]  # df с фильтром по 'Masters'\n",
    "df_Doctorate = df.loc[high_edu_Doctorate]  # df с фильтром по 'Doctorate'\n",
    "Bachelors_count = df_Bachelors['education'].count()\n",
    "Masters_count = df_Masters['education'].count()\n",
    "Doctorate_count = df_Doctorate['education'].count()\n",
    "\n",
    "count_high_my = Doctorate_count + Masters_count + Bachelors_count  # 7491"
   ]
  },
  {
   "cell_type": "code",
   "execution_count": 14,
   "id": "c0f30987",
   "metadata": {},
   "outputs": [],
   "source": [
    "Bachelors_num = df.loc[(df['education'] == 'Bachelors')]\n",
    "Masters_num = df.loc[(df['education'] == 'Masters')]\n",
    "Doctorate_num = df.loc[(df['education'] == 'Doctorate')]\n",
    "\n",
    "sum_high_edu = Bachelors_num + Masters_num + Doctorate_num  # 7491"
   ]
  },
  {
   "cell_type": "code",
   "execution_count": 27,
   "id": "0586c76d",
   "metadata": {},
   "outputs": [
    {
     "data": {
      "text/html": [
       "<div>\n",
       "<style scoped>\n",
       "    .dataframe tbody tr th:only-of-type {\n",
       "        vertical-align: middle;\n",
       "    }\n",
       "\n",
       "    .dataframe tbody tr th {\n",
       "        vertical-align: top;\n",
       "    }\n",
       "\n",
       "    .dataframe thead th {\n",
       "        text-align: right;\n",
       "    }\n",
       "</style>\n",
       "<table border=\"1\" class=\"dataframe\">\n",
       "  <thead>\n",
       "    <tr style=\"text-align: right;\">\n",
       "      <th></th>\n",
       "      <th>age</th>\n",
       "      <th>workclass</th>\n",
       "      <th>fnlwgt</th>\n",
       "      <th>education</th>\n",
       "      <th>education-num</th>\n",
       "      <th>marital-status</th>\n",
       "      <th>occupation</th>\n",
       "      <th>relationship</th>\n",
       "      <th>race</th>\n",
       "      <th>sex</th>\n",
       "      <th>capital-gain</th>\n",
       "      <th>capital-loss</th>\n",
       "      <th>hours-per-week</th>\n",
       "      <th>native-country</th>\n",
       "      <th>salary</th>\n",
       "    </tr>\n",
       "  </thead>\n",
       "  <tbody>\n",
       "    <tr>\n",
       "      <th>7</th>\n",
       "      <td>52</td>\n",
       "      <td>Self-emp-not-inc</td>\n",
       "      <td>209642</td>\n",
       "      <td>HS-grad</td>\n",
       "      <td>9</td>\n",
       "      <td>Married-civ-spouse</td>\n",
       "      <td>Exec-managerial</td>\n",
       "      <td>Husband</td>\n",
       "      <td>White</td>\n",
       "      <td>Male</td>\n",
       "      <td>0</td>\n",
       "      <td>0</td>\n",
       "      <td>45</td>\n",
       "      <td>United-States</td>\n",
       "      <td>&gt;50K</td>\n",
       "    </tr>\n",
       "    <tr>\n",
       "      <th>8</th>\n",
       "      <td>31</td>\n",
       "      <td>Private</td>\n",
       "      <td>45781</td>\n",
       "      <td>Masters</td>\n",
       "      <td>14</td>\n",
       "      <td>Never-married</td>\n",
       "      <td>Prof-specialty</td>\n",
       "      <td>Not-in-family</td>\n",
       "      <td>White</td>\n",
       "      <td>Female</td>\n",
       "      <td>14084</td>\n",
       "      <td>0</td>\n",
       "      <td>50</td>\n",
       "      <td>United-States</td>\n",
       "      <td>&gt;50K</td>\n",
       "    </tr>\n",
       "    <tr>\n",
       "      <th>9</th>\n",
       "      <td>42</td>\n",
       "      <td>Private</td>\n",
       "      <td>159449</td>\n",
       "      <td>Bachelors</td>\n",
       "      <td>13</td>\n",
       "      <td>Married-civ-spouse</td>\n",
       "      <td>Exec-managerial</td>\n",
       "      <td>Husband</td>\n",
       "      <td>White</td>\n",
       "      <td>Male</td>\n",
       "      <td>5178</td>\n",
       "      <td>0</td>\n",
       "      <td>40</td>\n",
       "      <td>United-States</td>\n",
       "      <td>&gt;50K</td>\n",
       "    </tr>\n",
       "  </tbody>\n",
       "</table>\n",
       "</div>"
      ],
      "text/plain": [
       "   age         workclass  fnlwgt  education  education-num  \\\n",
       "7   52  Self-emp-not-inc  209642    HS-grad              9   \n",
       "8   31           Private   45781    Masters             14   \n",
       "9   42           Private  159449  Bachelors             13   \n",
       "\n",
       "       marital-status       occupation   relationship   race     sex  \\\n",
       "7  Married-civ-spouse  Exec-managerial        Husband  White    Male   \n",
       "8       Never-married   Prof-specialty  Not-in-family  White  Female   \n",
       "9  Married-civ-spouse  Exec-managerial        Husband  White    Male   \n",
       "\n",
       "   capital-gain  capital-loss  hours-per-week native-country salary  \n",
       "7             0             0              45  United-States   >50K  \n",
       "8         14084             0              50  United-States   >50K  \n",
       "9          5178             0              40  United-States   >50K  "
      ]
     },
     "execution_count": 27,
     "metadata": {},
     "output_type": "execute_result"
    }
   ],
   "source": [
    "more_50 = df.loc[(df['salary'] == '>50K')]  # всего з/п >50K\n",
    "more_50.head(3)"
   ]
  },
  {
   "cell_type": "code",
   "execution_count": 16,
   "id": "8bb6ad94",
   "metadata": {},
   "outputs": [
    {
     "data": {
      "text/plain": [
       "7841"
      ]
     },
     "execution_count": 16,
     "metadata": {},
     "output_type": "execute_result"
    }
   ],
   "source": [
    "len(more_50)"
   ]
  },
  {
   "cell_type": "code",
   "execution_count": 17,
   "id": "add7c627",
   "metadata": {},
   "outputs": [
    {
     "data": {
      "text/plain": [
       "7491"
      ]
     },
     "execution_count": 17,
     "metadata": {},
     "output_type": "execute_result"
    }
   ],
   "source": [
    "count_high = df.loc[((df['education'] == 'Bachelors') | (df['education' ] == 'Masters') | (df['education' ] == 'Doctorate'))]\n",
    "len(count_high)  # кол-во с Bachelors Masters Doctorate"
   ]
  },
  {
   "cell_type": "code",
   "execution_count": 18,
   "id": "94df6907",
   "metadata": {
    "scrolled": true
   },
   "outputs": [
    {
     "data": {
      "text/plain": [
       "3486"
      ]
     },
     "execution_count": 18,
     "metadata": {},
     "output_type": "execute_result"
    }
   ],
   "source": [
    "count_high_more_50 = count_high.loc[(count_high['salary'] == '>50K')]  # кол-во Bachelors Masters Doctorate с з/п >50K\n",
    "len(count_high_more_50)  # кол-во с Bachelors Masters Doctorate и з/п >50K"
   ]
  },
  {
   "cell_type": "code",
   "execution_count": 19,
   "id": "26c4cadc",
   "metadata": {},
   "outputs": [
    {
     "data": {
      "text/plain": [
       "46.5"
      ]
     },
     "execution_count": 19,
     "metadata": {},
     "output_type": "execute_result"
    }
   ],
   "source": [
    "round((len(count_high_more_50) * 100) / len(count_high), 1)  # % Bachelors Masters Doctorate с з/п >50K"
   ]
  },
  {
   "cell_type": "code",
   "execution_count": 20,
   "id": "11caec3c",
   "metadata": {},
   "outputs": [
    {
     "data": {
      "text/plain": [
       "17.4"
      ]
     },
     "execution_count": 20,
     "metadata": {},
     "output_type": "execute_result"
    }
   ],
   "source": [
    "# count with salary >50K with lower education\n",
    "count_low = df.loc[(~(df['education'] == 'Bachelors') & ~(df['education' ] == 'Masters') & ~(df['education' ] == 'Doctorate'))]\n",
    "count_low_more_50 = count_low.loc[(count_low['salary'] == '>50K')]  # 4355\n",
    "\n",
    "count_low_edu = len(df) - len(count_high)  # общее кол-во с низким образованием 25070\n",
    "lower_education_rich = round(((len(count_low_more_50) * 100) / count_low_edu), 1)\n",
    "lower_education_rich"
   ]
  },
  {
   "cell_type": "code",
   "execution_count": null,
   "id": "93b70f9f",
   "metadata": {},
   "outputs": [],
   "source": []
  },
  {
   "cell_type": "code",
   "execution_count": 21,
   "id": "b5cdaaa8",
   "metadata": {},
   "outputs": [],
   "source": [
    "# Identify the most popular occupation for those who earn >50K in India."
   ]
  },
  {
   "cell_type": "code",
   "execution_count": 22,
   "id": "6afcde22",
   "metadata": {},
   "outputs": [
    {
     "data": {
      "text/plain": [
       "'Prof-specialty'"
      ]
     },
     "execution_count": 22,
     "metadata": {},
     "output_type": "execute_result"
    }
   ],
   "source": [
    "df.loc[(df['salary'] == '>50K')]  # всего з/п >50K\n",
    "more_50_India = more_50.loc[(more_50['native-country'] == 'India')]  # всего в ИНДИИ з/п >50K\n",
    "more_50_India_most_popular_occup = more_50_India['occupation'].value_counts() # всего в ИНДИИ з/п >50K сортировка\n",
    "more_50_India_most_popular_occup.index[0]  # всего в ИНДИИ з/п >50K "
   ]
  },
  {
   "cell_type": "code",
   "execution_count": null,
   "id": "8350407c",
   "metadata": {},
   "outputs": [],
   "source": []
  },
  {
   "cell_type": "code",
   "execution_count": 23,
   "id": "cbad9827",
   "metadata": {},
   "outputs": [
    {
     "data": {
      "text/plain": [
       "10.0"
      ]
     },
     "execution_count": 23,
     "metadata": {},
     "output_type": "execute_result"
    }
   ],
   "source": [
    "# What percentage of the people who work the minimum number of hours per week have a salary of >50K?\n",
    "all_min_hours_wokers = df.loc[df['hours-per-week'] == 1] # всего работающих 1 час в неделю\n",
    "len(all_min_hours_wokers)  # 20\n",
    "who_work_min_hours_week = more_50.loc[more_50['hours-per-week'] == 1] # работающих 1 час/неделю с зп >50K\n",
    "len(who_work_min_hours_week)  # 2\n",
    "rich_percentage = (len(who_work_min_hours_week) * 100) / len(all_min_hours_wokers)\n",
    "rich_percentage  # 10%"
   ]
  },
  {
   "cell_type": "code",
   "execution_count": null,
   "id": "521955c8",
   "metadata": {},
   "outputs": [],
   "source": []
  },
  {
   "cell_type": "code",
   "execution_count": 24,
   "id": "0bb60b8a",
   "metadata": {},
   "outputs": [],
   "source": [
    "# What country has the highest percentage of people that earn >50K?\n",
    "\n",
    "highest_earning_country = []\n",
    "highest_earning_country_percent = []\n",
    "\n",
    "more_50 = df.loc[(df['salary'] == '>50K')]  # всего з/п >50K\n",
    "\n",
    "all_country_column = pd.DataFrame(data=more_50['native-country'].unique(), columns = [\"native-country\"])  \n",
    "# создаем DF с двумя колонками с уникальными странами (1.индекс, 2.страна)\n",
    "all_country_one_column = all_country_column.set_index('native-country') # одна колонка (только страна)\n",
    "#all_country_one_column\n",
    "\n",
    "#df['native-country'].value_counts()['Hong']  # из всех стран, выбираем по стране общее кол-во чел\n",
    "#more_50['native-country'].value_counts()['Hong']  # из стран с зп >50K, выбираем по стране кол-во чел с зп >50K\n",
    "\n",
    "# highest_earning_country_percentage\n",
    "#highest_earning_country_percentage = ((Iran) all_highest_earning_countres * 100) / df['native-country'].value_counts()\n",
    "#41.9"
   ]
  },
  {
   "cell_type": "code",
   "execution_count": 25,
   "id": "396be00c",
   "metadata": {},
   "outputs": [
    {
     "name": "stdout",
     "output_type": "stream",
     "text": [
      "[24.6, 40.0, 25.0, 20.0, 7.7, 32.2, 41.9, 5.1, 36.8, 16.7, 39.2, 10.8, 33.3, 26.7, 30.8, 12.3, 32.1, 38.7, 34.2, 2.9, 26.3, 27.6, 6.5, 4.7, 8.5, 41.4, 7.5, 20.0, 10.5, 20.8, 37.5, 3.4, 9.1, 30.0, 14.3, 5.9, 10.5, 23.1, 25.0, 11.1]\n",
      "['United-States', 'India', '?', 'South', 'Honduras', 'Canada', 'Iran', 'Mexico', 'Cambodia', 'Thailand', 'Taiwan', 'Portugal', 'England', 'China', 'Philippines', 'Jamaica', 'Germany', 'Japan', 'Italy', 'Dominican-Republic', 'Cuba', 'Greece', 'Peru', 'Guatemala', 'El-Salvador', 'France', 'Vietnam', 'Poland', 'Puerto-Rico', 'Ireland', 'Yugoslavia', 'Columbia', 'Haiti', 'Hong', 'Ecuador', 'Nicaragua', 'Trinadad&Tobago', 'Hungary', 'Scotland', 'Laos']\n"
     ]
    }
   ],
   "source": [
    "for i, row in all_country_one_column.iterrows():\n",
    "    #print(i)\n",
    "    percent = ((more_50['native-country'].value_counts()[i] * 100) / df['native-country'].value_counts()[i])\n",
    "    highest_earning_country_percent.append(round(percent, 1))\n",
    "    highest_earning_country.append(i)\n",
    "print(highest_earning_country_percent)\n",
    "print(highest_earning_country)"
   ]
  },
  {
   "cell_type": "code",
   "execution_count": 26,
   "id": "4ba312b2",
   "metadata": {},
   "outputs": [
    {
     "name": "stdout",
     "output_type": "stream",
     "text": [
      "Iran\n"
     ]
    }
   ],
   "source": [
    "ans_perc = max(highest_earning_country_percent)\n",
    "ans_index = highest_earning_country_percent.index(ans_perc)\n",
    "ans_perc\n",
    "print(highest_earning_country[ans_index])"
   ]
  },
  {
   "cell_type": "code",
   "execution_count": null,
   "id": "e6ee5c5e",
   "metadata": {},
   "outputs": [],
   "source": []
  }
 ],
 "metadata": {
  "kernelspec": {
   "display_name": "Python 3 (ipykernel)",
   "language": "python",
   "name": "python3"
  },
  "language_info": {
   "codemirror_mode": {
    "name": "ipython",
    "version": 3
   },
   "file_extension": ".py",
   "mimetype": "text/x-python",
   "name": "python",
   "nbconvert_exporter": "python",
   "pygments_lexer": "ipython3",
   "version": "3.9.10"
  }
 },
 "nbformat": 4,
 "nbformat_minor": 5
}
