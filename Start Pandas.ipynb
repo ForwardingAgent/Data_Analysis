{
 "cells": [
  {
   "cell_type": "code",
   "execution_count": 1,
   "id": "0bb077da",
   "metadata": {},
   "outputs": [],
   "source": [
    "import pandas as pd\n",
    "from random import randint, choice"
   ]
  },
  {
   "cell_type": "code",
   "execution_count": 17,
   "id": "78178a25",
   "metadata": {},
   "outputs": [],
   "source": [
    "nums = [randint(-50, 50) for i in range(10)]\n",
    "indexes = [choice([0,1,2,3]) for i in range(10)]\n",
    "alpha = [choice('abc') for i in range(10)]"
   ]
  },
  {
   "cell_type": "code",
   "execution_count": 18,
   "id": "1430f1a8",
   "metadata": {},
   "outputs": [],
   "source": [
    "s = pd.Series(nums)\n",
    "s_not_unique = pd.Series(nums, alpha)"
   ]
  },
  {
   "cell_type": "code",
   "execution_count": 19,
   "id": "5a5debdb",
   "metadata": {},
   "outputs": [
    {
     "data": {
      "text/plain": [
       "['b', 'a', 'b', 'c', 'c', 'c', 'b', 'a', 'c', 'a']"
      ]
     },
     "execution_count": 19,
     "metadata": {},
     "output_type": "execute_result"
    }
   ],
   "source": [
    "alpha"
   ]
  },
  {
   "cell_type": "code",
   "execution_count": 26,
   "id": "7f8123f2",
   "metadata": {},
   "outputs": [
    {
     "data": {
      "text/plain": [
       "10"
      ]
     },
     "execution_count": 26,
     "metadata": {},
     "output_type": "execute_result"
    }
   ],
   "source": [
    "s.count()"
   ]
  },
  {
   "cell_type": "code",
   "execution_count": 20,
   "id": "41a1fdfc",
   "metadata": {},
   "outputs": [
    {
     "data": {
      "text/plain": [
       "0     6\n",
       "1    15\n",
       "2   -26\n",
       "3   -24\n",
       "4    35\n",
       "5   -25\n",
       "6    -1\n",
       "7   -30\n",
       "8    39\n",
       "9    33\n",
       "dtype: int64"
      ]
     },
     "execution_count": 20,
     "metadata": {},
     "output_type": "execute_result"
    }
   ],
   "source": [
    "s"
   ]
  },
  {
   "cell_type": "code",
   "execution_count": 21,
   "id": "c4b62615",
   "metadata": {},
   "outputs": [
    {
     "data": {
      "text/plain": [
       "b     6\n",
       "a    15\n",
       "b   -26\n",
       "c   -24\n",
       "c    35\n",
       "c   -25\n",
       "b    -1\n",
       "a   -30\n",
       "c    39\n",
       "a    33\n",
       "dtype: int64"
      ]
     },
     "execution_count": 21,
     "metadata": {},
     "output_type": "execute_result"
    }
   ],
   "source": [
    "s_not_unique"
   ]
  },
  {
   "cell_type": "code",
   "execution_count": 24,
   "id": "709cf646",
   "metadata": {},
   "outputs": [
    {
     "data": {
      "text/plain": [
       "a    15\n",
       "a   -30\n",
       "a    33\n",
       "c   -24\n",
       "c    35\n",
       "c   -25\n",
       "c    39\n",
       "dtype: int64"
      ]
     },
     "execution_count": 24,
     "metadata": {},
     "output_type": "execute_result"
    }
   ],
   "source": [
    "s_not_unique[['a','c']]"
   ]
  },
  {
   "cell_type": "code",
   "execution_count": 25,
   "id": "99e57bb4",
   "metadata": {},
   "outputs": [
    {
     "data": {
      "text/plain": [
       "a    15\n",
       "a   -30\n",
       "a    33\n",
       "c   -24\n",
       "c    35\n",
       "c   -25\n",
       "c    39\n",
       "dtype: int64"
      ]
     },
     "execution_count": 25,
     "metadata": {},
     "output_type": "execute_result"
    }
   ],
   "source": [
    "s_not_unique.loc[['a','c']]"
   ]
  },
  {
   "cell_type": "code",
   "execution_count": null,
   "id": "977910d3",
   "metadata": {},
   "outputs": [],
   "source": []
  }
 ],
 "metadata": {
  "kernelspec": {
   "display_name": "Python 3 (ipykernel)",
   "language": "python",
   "name": "python3"
  },
  "language_info": {
   "codemirror_mode": {
    "name": "ipython",
    "version": 3
   },
   "file_extension": ".py",
   "mimetype": "text/x-python",
   "name": "python",
   "nbconvert_exporter": "python",
   "pygments_lexer": "ipython3",
   "version": "3.9.10"
  }
 },
 "nbformat": 4,
 "nbformat_minor": 5
}
